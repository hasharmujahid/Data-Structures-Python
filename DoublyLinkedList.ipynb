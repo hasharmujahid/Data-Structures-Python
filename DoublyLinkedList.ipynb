{
 "cells": [
  {
   "cell_type": "markdown",
   "metadata": {},
   "source": [
    "# Doubly Linked List\n",
    "\n",
    "\n",
    "> Diagram\n",
    "\n",
    "null <---> Node1 <--> Node2 <--> Node3 <---> null\n",
    "\n",
    "A doubly linked list is a type of linked list in which each node contains a reference to the next node as well as the previous node. Here's a simple diagram of a doubly linked list with three nodes:\n",
    "\n",
    "```\n",
    "null <---> Node1 <--> Node2 <--> Node3 <---> null\n",
    "```\n",
    "\n",
    "In this diagram:\n",
    "\n",
    "- `Node1` is the head of the list. Its previous reference points to `null` because there's no node before it in the list.\n",
    "- `Node2` is in the middle of the list. Its previous reference points to `Node1` and its next reference points to `Node3`.\n",
    "- `Node3` is the tail of the list. Its next reference points to `null` because there's no node after it in the list.\n",
    "- The arrows (`<--->`) represent the `previous` and `next` references that each node has. The arrow pointing to the left represents the `previous` reference and the arrow pointing to the right represents the `next` reference.\n",
    "\n",
    "\n",
    " "
   ]
  },
  {
   "cell_type": "code",
   "execution_count": 8,
   "metadata": {},
   "outputs": [],
   "source": [
    "class Node:\n",
    "    def __init__(self,data):\n",
    "        self.data = data\n",
    "        self.next = None\n",
    "        self.prev = None # prev node\n",
    "\n",
    "\n",
    "class DoublyLinkedList:\n",
    "    def __init__(self):\n",
    "        self.head=None\n",
    "\n",
    "    def __str__(self):\n",
    "        rtstr = '['\n",
    "        node = self.head\n",
    "        while node is not None:\n",
    "            rtstr += str(node.data) + ', '\n",
    "            node = node.next\n",
    "        rtstr= rtstr.rstrip(', ')\n",
    "        rtstr += ']'\n",
    "        return rtstr\n",
    "\n"
   ]
  },
  {
   "cell_type": "markdown",
   "metadata": {},
   "source": [
    "# Push Operation \n",
    "\n",
    "Mostly same as the singly Linked List just need to set the previous node to the last node value\n",
    "\n"
   ]
  },
  {
   "cell_type": "code",
   "execution_count": 21,
   "metadata": {},
   "outputs": [
    {
     "name": "stdout",
     "output_type": "stream",
     "text": [
      "[1, 2, 1, 2, 1, 2, 1, 2, 1, 2, 1, 2, 1, 2]\n"
     ]
    }
   ],
   "source": [
    "def push(self , val):\n",
    "    new_node = Node(val)\n",
    "\n",
    "    if self.head is None:\n",
    "        self.head = new_node\n",
    "        return\n",
    "    \n",
    "    temp_node = self.head\n",
    "    \n",
    "    while temp_node.next is not None:\n",
    "        temp_node = temp_node.next\n",
    "\n",
    "    temp_node.next = new_node\n",
    "    new_node.prev = temp_node #( set previous ndode value to the last node)\n",
    "\n",
    "\n",
    "DoublyLinkedList.push = push\n",
    "\n",
    "list = DoublyLinkedList()\n",
    "list.push(1)\n",
    "list.push(2)\n",
    "list.push(1)\n",
    "list.push(2)\n",
    "list.push(1)\n",
    "list.push(2)\n",
    "list.push(1)\n",
    "list.push(2)\n",
    "list.push(1)\n",
    "list.push(2)\n",
    "list.push(1)\n",
    "list.push(2)\n",
    "list.push(1)\n",
    "list.push(2)\n",
    "print(list)\n",
    "\n",
    "    \n",
    "\n",
    "\n"
   ]
  },
  {
   "cell_type": "markdown",
   "metadata": {},
   "source": [
    "# POP Operation\n"
   ]
  },
  {
   "cell_type": "code",
   "execution_count": 22,
   "metadata": {},
   "outputs": [
    {
     "name": "stdout",
     "output_type": "stream",
     "text": [
      "[1, 2, 1, 2, 1, 2, 1, 2, 1, 2, 1, 2, 1]\n"
     ]
    }
   ],
   "source": [
    "def pop(self):\n",
    "    if self.head.next is None:\n",
    "        val = self.head.data\n",
    "        self.head = None\n",
    "\n",
    "        return val\n",
    "    \n",
    "    temp_node = self.head\n",
    "    while temp_node.next is not None:\n",
    "        prev = temp_node\n",
    "        temp_node = temp_node.next\n",
    "    \n",
    "    val = temp_node.data\n",
    "    prev.next = None\n",
    "    temp_node = None\n",
    "\n",
    "    return val\n",
    "\n",
    "\n",
    "DoublyLinkedList.pop = pop\n",
    "\n",
    "list.pop()\n",
    "\n",
    "print(list)"
   ]
  },
  {
   "cell_type": "markdown",
   "metadata": {},
   "source": [
    "# INSERT OPERATIONS\n",
    "\n"
   ]
  },
  {
   "cell_type": "code",
   "execution_count": 26,
   "metadata": {},
   "outputs": [
    {
     "name": "stdout",
     "output_type": "stream",
     "text": [
      "[0, 0, 0, 3, 1, 3, 2, 3, 3, 1, 2, 1, 2, 1, 2, 1, 2, 1, 2, 1]\n"
     ]
    }
   ],
   "source": [
    "def insert(self,data, index):\n",
    "    new_node = Node(data=data)\n",
    "\n",
    "    if index == 0:\n",
    "        new_node.next = self.head\n",
    "        self.head = new_node\n",
    "        return\n",
    "    \n",
    "    counter = 0\n",
    "    temp = self.head\n",
    "\n",
    "    while temp is not None and counter < index:\n",
    "        prev = temp\n",
    "        temp = temp.next\n",
    "        counter +=1\n",
    "    prev.next = new_node\n",
    "    new_node.prev = prev # chnage\n",
    "    new_node.next = temp\n",
    "\n",
    "DoublyLinkedList.insert= insert\n",
    "\n",
    "list.insert(3,2)\n",
    "list.insert(0,0)\n",
    "print(list)\n",
    "\n"
   ]
  },
  {
   "cell_type": "markdown",
   "metadata": {},
   "source": [
    "# Remove Operations\n"
   ]
  },
  {
   "cell_type": "code",
   "execution_count": 27,
   "metadata": {},
   "outputs": [
    {
     "name": "stdout",
     "output_type": "stream",
     "text": [
      "[0, 0, 0, 1, 3, 2, 3, 3, 1, 2, 1, 2, 1, 2, 1, 2, 1, 2, 1]\n"
     ]
    }
   ],
   "source": [
    "def remove(self, val):\n",
    "    temp = self.head\n",
    "\n",
    "    if temp is not None:\n",
    "        if temp.data == val:\n",
    "            self.head = temp.next # changed the current head to the next node \n",
    "            temp = None\n",
    "\n",
    "            return\n",
    "\n",
    "    while temp is not None and temp.data != val:\n",
    "        prev = temp\n",
    "        temp = temp.next \n",
    "    \n",
    "    prev.next = temp.next\n",
    "    temp.prev = None\n",
    "    temp = None\n",
    "\n",
    "    if temp is None:\n",
    "        return\n",
    "\n",
    "DoublyLinkedList.remove= remove\n",
    "\n",
    "list.remove(3)\n",
    "print(list)"
   ]
  },
  {
   "cell_type": "code",
   "execution_count": null,
   "metadata": {},
   "outputs": [],
   "source": []
  }
 ],
 "metadata": {
  "kernelspec": {
   "display_name": "Python 3",
   "language": "python",
   "name": "python3"
  },
  "language_info": {
   "codemirror_mode": {
    "name": "ipython",
    "version": 3
   },
   "file_extension": ".py",
   "mimetype": "text/x-python",
   "name": "python",
   "nbconvert_exporter": "python",
   "pygments_lexer": "ipython3",
   "version": "3.12.3"
  }
 },
 "nbformat": 4,
 "nbformat_minor": 2
}
