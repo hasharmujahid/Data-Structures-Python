{
 "cells": [
  {
   "cell_type": "markdown",
   "metadata": {},
   "source": [
    "# STACKS\n",
    "\n",
    "Stack works strictly on the basis of append and pop. We can also called this as LIFO (Last in first out).\n",
    "\n",
    "A stack is a linear data structure that follows the LIFO (Last In First Out) principle. Here's a simple diagram of a stack with three elements:\n",
    "\n",
    "```\n",
    "  top\n",
    "  |\n",
    "  V\n",
    "  ----\n",
    "  | 3 |\n",
    "  ----\n",
    "  | 2 |\n",
    "  ----\n",
    "  | 1 |\n",
    "  ----\n",
    "```\n",
    "\n",
    "In this diagram:\n",
    "\n",
    "- `3` is the top of the stack. This is the last element that was added (pushed) to the stack, and it will be the first element that gets removed (popped) from the stack.\n",
    "- `2` is the second element in the stack.\n",
    "- `1` is the bottom of the stack. This is the first element that was added to the stack, and it will be the last element that gets removed from the stack.\n",
    "\n",
    "The arrows (`|`) represent the direction of operation. Elements are added (pushed) and removed (popped) from the top of the stack."
   ]
  },
  {
   "cell_type": "markdown",
   "metadata": {},
   "source": [
    "Lets look at a simple python list and see what makes it different form the stack."
   ]
  },
  {
   "cell_type": "code",
   "execution_count": 9,
   "metadata": {},
   "outputs": [
    {
     "name": "stdout",
     "output_type": "stream",
     "text": [
      "[1, 11, 323, 2, 21]\n",
      "[]\n"
     ]
    }
   ],
   "source": [
    "# If we only use appened and pop functions present in the list it would give us a real repersentation of a stack\n",
    "\n",
    "l = []\n",
    "\n",
    "l.append(1)\n",
    "l.append(11)\n",
    "l.append(323)\n",
    "l.append(2)\n",
    "l.append(21)\n",
    "\n",
    "print(l)\n",
    "\n",
    "l.pop()\n",
    "l.pop()\n",
    "l.pop()\n",
    "l.pop()\n",
    "l.pop()\n",
    "print(l)\n",
    "\n"
   ]
  },
  {
   "cell_type": "markdown",
   "metadata": {},
   "source": [
    "> But the main issue is we should not be able to retives values in the middle of a stack which we can through the list using index. `print(l[1])`\n",
    "\n",
    "\n",
    "So what we can do to make a stack in python we can make a class. "
   ]
  },
  {
   "cell_type": "code",
   "execution_count": 10,
   "metadata": {},
   "outputs": [
    {
     "name": "stdout",
     "output_type": "stream",
     "text": [
      "[1, 2, 4, 5]\n",
      "[1, 2, 4]\n"
     ]
    }
   ],
   "source": [
    "class Stack:\n",
    "    def __init__(self):\n",
    "        self.stack = []\n",
    "\n",
    "    def push(self,val):\n",
    "        self.stack.append(val) \n",
    "\n",
    "    def pop(self):\n",
    "        self.stack.pop()\n",
    "\n",
    "    def peek(self):\n",
    "        return self.stack[-1]\n",
    "\n",
    "    def __str__(self):\n",
    "        return str(self.stack)\n",
    "\n",
    "\n",
    "# Create onject from the stack class.\n",
    "\n",
    "s = Stack()\n",
    "\n",
    "\n",
    "s.push(1)\n",
    "s.push(2)\n",
    "s.push(4)\n",
    "s.push(5)\n",
    "print(s)\n",
    "\n",
    "s.pop()\n",
    "\n",
    "print(s)\n"
   ]
  },
  {
   "cell_type": "code",
   "execution_count": null,
   "metadata": {},
   "outputs": [],
   "source": []
  }
 ],
 "metadata": {
  "kernelspec": {
   "display_name": "Python 3",
   "language": "python",
   "name": "python3"
  },
  "language_info": {
   "codemirror_mode": {
    "name": "ipython",
    "version": 3
   },
   "file_extension": ".py",
   "mimetype": "text/x-python",
   "name": "python",
   "nbconvert_exporter": "python",
   "pygments_lexer": "ipython3",
   "version": "3.12.3"
  }
 },
 "nbformat": 4,
 "nbformat_minor": 2
}
